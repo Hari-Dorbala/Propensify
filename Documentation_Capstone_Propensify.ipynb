{
 "cells": [
  {
   "cell_type": "markdown",
   "id": "3259265f",
   "metadata": {},
   "source": [
    "# Introduction\n",
    "This document explains the series of steps in training the model. \n",
    "The pipeline for the deployment is present in the source code file which utilizes the steps involved in this document. \n",
    "The document also explains the uses of the model built in this exercise to the company."
   ]
  },
  {
   "cell_type": "markdown",
   "id": "381ad8c5",
   "metadata": {},
   "source": [
    "Import the required libraries"
   ]
  },
  {
   "cell_type": "code",
   "execution_count": 48,
   "id": "1bf303a7",
   "metadata": {},
   "outputs": [],
   "source": [
    "import pandas as pd\n",
    "import numpy as np\n",
    "import seaborn as sns\n",
    "import matplotlib.pyplot as plt\n",
    "from imblearn.over_sampling import SMOTE\n",
    "from sklearn.model_selection import train_test_split\n",
    "from sklearn.preprocessing import StandardScaler\n",
    "from sklearn.ensemble import RandomForestClassifier\n",
    "from sklearn.metrics import classification_report, accuracy_score\n",
    "from sklearn.model_selection import GridSearchCV"
   ]
  },
  {
   "cell_type": "markdown",
   "id": "f004d724",
   "metadata": {},
   "source": [
    "Load the dataset and observe the shape of data frame"
   ]
  },
  {
   "cell_type": "code",
   "execution_count": 49,
   "id": "75c3bed6",
   "metadata": {},
   "outputs": [
    {
     "data": {
      "text/plain": [
       "(8240, 24)"
      ]
     },
     "execution_count": 49,
     "metadata": {},
     "output_type": "execute_result"
    }
   ],
   "source": [
    "#load dataset\n",
    "train_propensify = pd.read_excel(r\"C:\\Users\\HARI CHARAN\\Downloads\\UPGRAD_ALL\\Upgrad\\train.xlsx\")\n",
    "train_propensify.shape"
   ]
  },
  {
   "cell_type": "markdown",
   "id": "f4464789",
   "metadata": {},
   "source": [
    "Check if there are any unnecessary columns"
   ]
  },
  {
   "cell_type": "code",
   "execution_count": 50,
   "id": "0197fbac",
   "metadata": {},
   "outputs": [
    {
     "data": {
      "text/plain": [
       "Index(['custAge', 'profession', 'marital', 'schooling', 'default', 'housing',\n",
       "       'loan', 'contact', 'month', 'day_of_week', 'campaign', 'pdays',\n",
       "       'previous', 'poutcome', 'emp.var.rate', 'cons.price.idx',\n",
       "       'cons.conf.idx', 'euribor3m', 'nr.employed', 'pmonths', 'pastEmail',\n",
       "       'responded', 'profit', 'id'],\n",
       "      dtype='object')"
      ]
     },
     "execution_count": 50,
     "metadata": {},
     "output_type": "execute_result"
    }
   ],
   "source": [
    "train_propensify.columns\n"
   ]
  },
  {
   "cell_type": "markdown",
   "id": "d6c45040",
   "metadata": {},
   "source": [
    "The data is highly imbalanced, with around 88% of the customers are not responded while only 11% of them responded to the marketing campaign. Hence it is essential to address this imbalance of the target variable before building the model."
   ]
  },
  {
   "cell_type": "code",
   "execution_count": 51,
   "id": "d47a093a",
   "metadata": {},
   "outputs": [
    {
     "name": "stdout",
     "output_type": "stream",
     "text": [
      "responded\n",
      "no     88.713592\n",
      "yes    11.262136\n",
      "Name: count, dtype: float64\n"
     ]
    }
   ],
   "source": [
    "# Calculate value counts\n",
    "value_counts = train_propensify['responded'].value_counts()\n",
    "\n",
    "# Calculate percentages\n",
    "percentages = value_counts / len(train_propensify) * 100\n",
    "\n",
    "# Display the result\n",
    "print(percentages)"
   ]
  },
  {
   "cell_type": "markdown",
   "id": "8d7268e7",
   "metadata": {},
   "source": [
    "Keeping only those columns that are required for the analysis"
   ]
  },
  {
   "cell_type": "code",
   "execution_count": 52,
   "id": "bdd66e20",
   "metadata": {},
   "outputs": [
    {
     "data": {
      "text/plain": [
       "(8240, 22)"
      ]
     },
     "execution_count": 52,
     "metadata": {},
     "output_type": "execute_result"
    }
   ],
   "source": [
    "#Keeping only those columns that are required\n",
    "columns_to_keep = ['custAge', 'profession', 'marital', 'schooling', 'default', 'housing',\n",
    "                   'loan', 'contact', 'month', 'day_of_week', 'campaign', 'pdays', 'previous',\n",
    "                   'poutcome', 'emp.var.rate', 'cons.price.idx', 'cons.conf.idx',\n",
    "                   'euribor3m', 'nr.employed', 'pmonths', 'pastEmail', 'responded']\n",
    "\n",
    "train_propensify = train_propensify[columns_to_keep]\n",
    "train_propensify.shape"
   ]
  },
  {
   "cell_type": "markdown",
   "id": "8bb43741",
   "metadata": {},
   "source": [
    "-------------------------------------------------------------------------------------------------------------------------------"
   ]
  },
  {
   "cell_type": "markdown",
   "id": "857481c5",
   "metadata": {},
   "source": [
    "# Treating Missing Values"
   ]
  },
  {
   "cell_type": "markdown",
   "id": "fe3090c2",
   "metadata": {},
   "source": [
    "Check if there are any missing values in the data"
   ]
  },
  {
   "cell_type": "code",
   "execution_count": 53,
   "id": "dc7e7973",
   "metadata": {},
   "outputs": [
    {
     "name": "stdout",
     "output_type": "stream",
     "text": [
      "Number of missing values in each column:\n",
      "custAge           2016\n",
      "profession           2\n",
      "marital              2\n",
      "schooling         2408\n",
      "default              2\n",
      "housing              2\n",
      "loan                 2\n",
      "contact              2\n",
      "month                2\n",
      "day_of_week        789\n",
      "campaign             2\n",
      "pdays                2\n",
      "previous             2\n",
      "poutcome             2\n",
      "emp.var.rate         2\n",
      "cons.price.idx       2\n",
      "cons.conf.idx        2\n",
      "euribor3m            2\n",
      "nr.employed          2\n",
      "pmonths              2\n",
      "pastEmail            2\n",
      "responded            2\n",
      "dtype: int64\n"
     ]
    }
   ],
   "source": [
    "missing_values = train_propensify.isnull().sum()\n",
    "print(\"Number of missing values in each column:\")\n",
    "print(missing_values)"
   ]
  },
  {
   "cell_type": "markdown",
   "id": "bede11d2",
   "metadata": {},
   "source": [
    "Age, day of the week and schooling have missing values that almost account for 25% of the entire dataset.\n",
    "Age can have significant impact on the response to the marketing campaign for insurance products as individuals belonging to\n",
    "different categories of age may have different needs (Young to old). \n",
    "Day of the week can influence the decision too as individuals tend to be free in weekends and busy in week days.\n",
    "Further, schooling represents the indiviudual's education level which can have significant impact on decision to get insured.\n",
    "Thus, dropping these variables is not the ideal thing to do.\n",
    "Hence, the missing values are to be imputed and this section discusses the imputation techniques used."
   ]
  },
  {
   "cell_type": "markdown",
   "id": "7385cf5f",
   "metadata": {},
   "source": [
    " "
   ]
  },
  {
   "cell_type": "markdown",
   "id": "9fde6a62",
   "metadata": {},
   "source": [
    " "
   ]
  },
  {
   "cell_type": "markdown",
   "id": "c8b9035d",
   "metadata": {},
   "source": [
    "1. Imputing missing schooling values:\n",
    "Education can have impact on the employment type of the individual. Hence, this study checks education levels and the associated \n",
    "profession of the individual to cross-check the education-employment match argument. The following table acts as an evidence for the above argument.\n",
    "Considering the above argument the missing education values are imputed based on the indivisual's profession"
   ]
  },
  {
   "cell_type": "code",
   "execution_count": 54,
   "id": "2d41bed5",
   "metadata": {},
   "outputs": [
    {
     "data": {
      "text/html": [
       "<style type=\"text/css\">\n",
       "#T_914aa_row0_col1, #T_914aa_row1_col1, #T_914aa_row2_col1, #T_914aa_row3_col0, #T_914aa_row4_col6, #T_914aa_row5_col9, #T_914aa_row6_col0, #T_914aa_row7_col1 {\n",
       "  background-color: yellow;\n",
       "}\n",
       "</style>\n",
       "<table id=\"T_914aa\">\n",
       "  <thead>\n",
       "    <tr>\n",
       "      <th class=\"index_name level0\" >profession</th>\n",
       "      <th id=\"T_914aa_level0_col0\" class=\"col_heading level0 col0\" >admin.</th>\n",
       "      <th id=\"T_914aa_level0_col1\" class=\"col_heading level0 col1\" >blue-collar</th>\n",
       "      <th id=\"T_914aa_level0_col2\" class=\"col_heading level0 col2\" >entrepreneur</th>\n",
       "      <th id=\"T_914aa_level0_col3\" class=\"col_heading level0 col3\" >housemaid</th>\n",
       "      <th id=\"T_914aa_level0_col4\" class=\"col_heading level0 col4\" >management</th>\n",
       "      <th id=\"T_914aa_level0_col5\" class=\"col_heading level0 col5\" >retired</th>\n",
       "      <th id=\"T_914aa_level0_col6\" class=\"col_heading level0 col6\" >self-employed</th>\n",
       "      <th id=\"T_914aa_level0_col7\" class=\"col_heading level0 col7\" >services</th>\n",
       "      <th id=\"T_914aa_level0_col8\" class=\"col_heading level0 col8\" >student</th>\n",
       "      <th id=\"T_914aa_level0_col9\" class=\"col_heading level0 col9\" >technician</th>\n",
       "      <th id=\"T_914aa_level0_col10\" class=\"col_heading level0 col10\" >unemployed</th>\n",
       "      <th id=\"T_914aa_level0_col11\" class=\"col_heading level0 col11\" >unknown</th>\n",
       "    </tr>\n",
       "    <tr>\n",
       "      <th class=\"index_name level0\" >schooling</th>\n",
       "      <th class=\"blank col0\" >&nbsp;</th>\n",
       "      <th class=\"blank col1\" >&nbsp;</th>\n",
       "      <th class=\"blank col2\" >&nbsp;</th>\n",
       "      <th class=\"blank col3\" >&nbsp;</th>\n",
       "      <th class=\"blank col4\" >&nbsp;</th>\n",
       "      <th class=\"blank col5\" >&nbsp;</th>\n",
       "      <th class=\"blank col6\" >&nbsp;</th>\n",
       "      <th class=\"blank col7\" >&nbsp;</th>\n",
       "      <th class=\"blank col8\" >&nbsp;</th>\n",
       "      <th class=\"blank col9\" >&nbsp;</th>\n",
       "      <th class=\"blank col10\" >&nbsp;</th>\n",
       "      <th class=\"blank col11\" >&nbsp;</th>\n",
       "    </tr>\n",
       "  </thead>\n",
       "  <tbody>\n",
       "    <tr>\n",
       "      <th id=\"T_914aa_level0_row0\" class=\"row_heading level0 row0\" >basic.4y</th>\n",
       "      <td id=\"T_914aa_row0_col0\" class=\"data row0 col0\" >2.047782</td>\n",
       "      <td id=\"T_914aa_row0_col1\" class=\"data row0 col1\" >55.802048</td>\n",
       "      <td id=\"T_914aa_row0_col2\" class=\"data row0 col2\" >4.436860</td>\n",
       "      <td id=\"T_914aa_row0_col3\" class=\"data row0 col3\" >10.409556</td>\n",
       "      <td id=\"T_914aa_row0_col4\" class=\"data row0 col4\" >2.389078</td>\n",
       "      <td id=\"T_914aa_row0_col5\" class=\"data row0 col5\" >14.675768</td>\n",
       "      <td id=\"T_914aa_row0_col6\" class=\"data row0 col6\" >1.706485</td>\n",
       "      <td id=\"T_914aa_row0_col7\" class=\"data row0 col7\" >3.242321</td>\n",
       "      <td id=\"T_914aa_row0_col8\" class=\"data row0 col8\" >0.341297</td>\n",
       "      <td id=\"T_914aa_row0_col9\" class=\"data row0 col9\" >0.853242</td>\n",
       "      <td id=\"T_914aa_row0_col10\" class=\"data row0 col10\" >2.730375</td>\n",
       "      <td id=\"T_914aa_row0_col11\" class=\"data row0 col11\" >1.365188</td>\n",
       "    </tr>\n",
       "    <tr>\n",
       "      <th id=\"T_914aa_level0_row1\" class=\"row_heading level0 row1\" >basic.6y</th>\n",
       "      <td id=\"T_914aa_row1_col0\" class=\"data row1 col0\" >8.626198</td>\n",
       "      <td id=\"T_914aa_row1_col1\" class=\"data row1 col1\" >61.022364</td>\n",
       "      <td id=\"T_914aa_row1_col2\" class=\"data row1 col2\" >1.597444</td>\n",
       "      <td id=\"T_914aa_row1_col3\" class=\"data row1 col3\" >4.792332</td>\n",
       "      <td id=\"T_914aa_row1_col4\" class=\"data row1 col4\" >4.472843</td>\n",
       "      <td id=\"T_914aa_row1_col5\" class=\"data row1 col5\" >4.153355</td>\n",
       "      <td id=\"T_914aa_row1_col6\" class=\"data row1 col6\" >0.000000</td>\n",
       "      <td id=\"T_914aa_row1_col7\" class=\"data row1 col7\" >10.543131</td>\n",
       "      <td id=\"T_914aa_row1_col8\" class=\"data row1 col8\" >0.638978</td>\n",
       "      <td id=\"T_914aa_row1_col9\" class=\"data row1 col9\" >3.194888</td>\n",
       "      <td id=\"T_914aa_row1_col10\" class=\"data row1 col10\" >0.958466</td>\n",
       "      <td id=\"T_914aa_row1_col11\" class=\"data row1 col11\" >0.000000</td>\n",
       "    </tr>\n",
       "    <tr>\n",
       "      <th id=\"T_914aa_level0_row2\" class=\"row_heading level0 row2\" >basic.9y</th>\n",
       "      <td id=\"T_914aa_row2_col0\" class=\"data row2 col0\" >7.184241</td>\n",
       "      <td id=\"T_914aa_row2_col1\" class=\"data row2 col1\" >61.413673</td>\n",
       "      <td id=\"T_914aa_row2_col2\" class=\"data row2 col2\" >3.012746</td>\n",
       "      <td id=\"T_914aa_row2_col3\" class=\"data row2 col3\" >2.085747</td>\n",
       "      <td id=\"T_914aa_row2_col4\" class=\"data row2 col4\" >2.201622</td>\n",
       "      <td id=\"T_914aa_row2_col5\" class=\"data row2 col5\" >1.738123</td>\n",
       "      <td id=\"T_914aa_row2_col6\" class=\"data row2 col6\" >4.287370</td>\n",
       "      <td id=\"T_914aa_row2_col7\" class=\"data row2 col7\" >6.836616</td>\n",
       "      <td id=\"T_914aa_row2_col8\" class=\"data row2 col8\" >0.926999</td>\n",
       "      <td id=\"T_914aa_row2_col9\" class=\"data row2 col9\" >6.604867</td>\n",
       "      <td id=\"T_914aa_row2_col10\" class=\"data row2 col10\" >3.128621</td>\n",
       "      <td id=\"T_914aa_row2_col11\" class=\"data row2 col11\" >0.579374</td>\n",
       "    </tr>\n",
       "    <tr>\n",
       "      <th id=\"T_914aa_level0_row3\" class=\"row_heading level0 row3\" >high.school</th>\n",
       "      <td id=\"T_914aa_row3_col0\" class=\"data row3 col0\" >36.268657</td>\n",
       "      <td id=\"T_914aa_row3_col1\" class=\"data row3 col1\" >8.805970</td>\n",
       "      <td id=\"T_914aa_row3_col2\" class=\"data row3 col2\" >2.686567</td>\n",
       "      <td id=\"T_914aa_row3_col3\" class=\"data row3 col3\" >1.492537</td>\n",
       "      <td id=\"T_914aa_row3_col4\" class=\"data row3 col4\" >3.358209</td>\n",
       "      <td id=\"T_914aa_row3_col5\" class=\"data row3 col5\" >2.313433</td>\n",
       "      <td id=\"T_914aa_row3_col6\" class=\"data row3 col6\" >1.567164</td>\n",
       "      <td id=\"T_914aa_row3_col7\" class=\"data row3 col7\" >27.985075</td>\n",
       "      <td id=\"T_914aa_row3_col8\" class=\"data row3 col8\" >3.358209</td>\n",
       "      <td id=\"T_914aa_row3_col9\" class=\"data row3 col9\" >9.179104</td>\n",
       "      <td id=\"T_914aa_row3_col10\" class=\"data row3 col10\" >2.686567</td>\n",
       "      <td id=\"T_914aa_row3_col11\" class=\"data row3 col11\" >0.298507</td>\n",
       "    </tr>\n",
       "    <tr>\n",
       "      <th id=\"T_914aa_level0_row4\" class=\"row_heading level0 row4\" >illiterate</th>\n",
       "      <td id=\"T_914aa_row4_col0\" class=\"data row4 col0\" >0.000000</td>\n",
       "      <td id=\"T_914aa_row4_col1\" class=\"data row4 col1\" >0.000000</td>\n",
       "      <td id=\"T_914aa_row4_col2\" class=\"data row4 col2\" >0.000000</td>\n",
       "      <td id=\"T_914aa_row4_col3\" class=\"data row4 col3\" >0.000000</td>\n",
       "      <td id=\"T_914aa_row4_col4\" class=\"data row4 col4\" >0.000000</td>\n",
       "      <td id=\"T_914aa_row4_col5\" class=\"data row4 col5\" >0.000000</td>\n",
       "      <td id=\"T_914aa_row4_col6\" class=\"data row4 col6\" >100.000000</td>\n",
       "      <td id=\"T_914aa_row4_col7\" class=\"data row4 col7\" >0.000000</td>\n",
       "      <td id=\"T_914aa_row4_col8\" class=\"data row4 col8\" >0.000000</td>\n",
       "      <td id=\"T_914aa_row4_col9\" class=\"data row4 col9\" >0.000000</td>\n",
       "      <td id=\"T_914aa_row4_col10\" class=\"data row4 col10\" >0.000000</td>\n",
       "      <td id=\"T_914aa_row4_col11\" class=\"data row4 col11\" >0.000000</td>\n",
       "    </tr>\n",
       "    <tr>\n",
       "      <th id=\"T_914aa_level0_row5\" class=\"row_heading level0 row5\" >professional.course</th>\n",
       "      <td id=\"T_914aa_row5_col0\" class=\"data row5 col0\" >7.046070</td>\n",
       "      <td id=\"T_914aa_row5_col1\" class=\"data row5 col1\" >9.756098</td>\n",
       "      <td id=\"T_914aa_row5_col2\" class=\"data row5 col2\" >3.387534</td>\n",
       "      <td id=\"T_914aa_row5_col3\" class=\"data row5 col3\" >1.761518</td>\n",
       "      <td id=\"T_914aa_row5_col4\" class=\"data row5 col4\" >1.897019</td>\n",
       "      <td id=\"T_914aa_row5_col5\" class=\"data row5 col5\" >4.065041</td>\n",
       "      <td id=\"T_914aa_row5_col6\" class=\"data row5 col6\" >2.303523</td>\n",
       "      <td id=\"T_914aa_row5_col7\" class=\"data row5 col7\" >4.065041</td>\n",
       "      <td id=\"T_914aa_row5_col8\" class=\"data row5 col8\" >0.948509</td>\n",
       "      <td id=\"T_914aa_row5_col9\" class=\"data row5 col9\" >62.466125</td>\n",
       "      <td id=\"T_914aa_row5_col10\" class=\"data row5 col10\" >2.032520</td>\n",
       "      <td id=\"T_914aa_row5_col11\" class=\"data row5 col11\" >0.271003</td>\n",
       "    </tr>\n",
       "    <tr>\n",
       "      <th id=\"T_914aa_level0_row6\" class=\"row_heading level0 row6\" >university.degree</th>\n",
       "      <td id=\"T_914aa_row6_col0\" class=\"data row6 col0\" >47.198151</td>\n",
       "      <td id=\"T_914aa_row6_col1\" class=\"data row6 col1\" >0.693241</td>\n",
       "      <td id=\"T_914aa_row6_col2\" class=\"data row6 col2\" >5.661467</td>\n",
       "      <td id=\"T_914aa_row6_col3\" class=\"data row6 col3\" >1.270942</td>\n",
       "      <td id=\"T_914aa_row6_col4\" class=\"data row6 col4\" >16.811092</td>\n",
       "      <td id=\"T_914aa_row6_col5\" class=\"data row6 col5\" >2.195263</td>\n",
       "      <td id=\"T_914aa_row6_col6\" class=\"data row6 col6\" >5.430387</td>\n",
       "      <td id=\"T_914aa_row6_col7\" class=\"data row6 col7\" >1.328712</td>\n",
       "      <td id=\"T_914aa_row6_col8\" class=\"data row6 col8\" >1.213172</td>\n",
       "      <td id=\"T_914aa_row6_col9\" class=\"data row6 col9\" >16.233391</td>\n",
       "      <td id=\"T_914aa_row6_col10\" class=\"data row6 col10\" >1.559792</td>\n",
       "      <td id=\"T_914aa_row6_col11\" class=\"data row6 col11\" >0.404391</td>\n",
       "    </tr>\n",
       "    <tr>\n",
       "      <th id=\"T_914aa_level0_row7\" class=\"row_heading level0 row7\" >unknown</th>\n",
       "      <td id=\"T_914aa_row7_col0\" class=\"data row7 col0\" >16.538462</td>\n",
       "      <td id=\"T_914aa_row7_col1\" class=\"data row7 col1\" >25.000000</td>\n",
       "      <td id=\"T_914aa_row7_col2\" class=\"data row7 col2\" >3.461538</td>\n",
       "      <td id=\"T_914aa_row7_col3\" class=\"data row7 col3\" >3.846154</td>\n",
       "      <td id=\"T_914aa_row7_col4\" class=\"data row7 col4\" >6.923077</td>\n",
       "      <td id=\"T_914aa_row7_col5\" class=\"data row7 col5\" >6.153846</td>\n",
       "      <td id=\"T_914aa_row7_col6\" class=\"data row7 col6\" >1.923077</td>\n",
       "      <td id=\"T_914aa_row7_col7\" class=\"data row7 col7\" >5.384615</td>\n",
       "      <td id=\"T_914aa_row7_col8\" class=\"data row7 col8\" >9.230769</td>\n",
       "      <td id=\"T_914aa_row7_col9\" class=\"data row7 col9\" >10.769231</td>\n",
       "      <td id=\"T_914aa_row7_col10\" class=\"data row7 col10\" >0.384615</td>\n",
       "      <td id=\"T_914aa_row7_col11\" class=\"data row7 col11\" >10.384615</td>\n",
       "    </tr>\n",
       "  </tbody>\n",
       "</table>\n"
      ],
      "text/plain": [
       "<pandas.io.formats.style.Styler at 0x1e214be8d50>"
      ]
     },
     "execution_count": 54,
     "metadata": {},
     "output_type": "execute_result"
    }
   ],
   "source": [
    "cross_tab = pd.crosstab(train_propensify['schooling'], train_propensify['profession'],normalize = 'index')*100\n",
    "highlighted_cross_tab = cross_tab.style.apply(lambda x: ['background-color: yellow' if val == x.max() else '' for val in x], axis=1)\n",
    "highlighted_cross_tab"
   ]
  },
  {
   "cell_type": "code",
   "execution_count": 55,
   "id": "5458bb79",
   "metadata": {},
   "outputs": [],
   "source": [
    "#Feature engineering for schooling\n",
    "schooling_category = {\n",
    "    'basic.4y' : 'basic',\n",
    "    'basic.6y' : 'basic',\n",
    "    'basic.9y' : 'basic',\n",
    "    'high.school': 'high.school',\n",
    "    'illiterate':'illiterate',\n",
    "    'professional.course': 'professional.course',\n",
    "    'university.degree':'university.degree',\n",
    "    'unknown':'unknown',\n",
    "}\n",
    "\n",
    "train_propensify['schooling'] = train_propensify['schooling'].replace(schooling_category)"
   ]
  },
  {
   "cell_type": "code",
   "execution_count": 56,
   "id": "c1efe548",
   "metadata": {},
   "outputs": [
    {
     "data": {
      "text/html": [
       "<style type=\"text/css\">\n",
       "#T_94598_row0_col1, #T_94598_row1_col0, #T_94598_row2_col6, #T_94598_row3_col9, #T_94598_row4_col0, #T_94598_row5_col1 {\n",
       "  background-color: yellow;\n",
       "}\n",
       "</style>\n",
       "<table id=\"T_94598\">\n",
       "  <thead>\n",
       "    <tr>\n",
       "      <th class=\"index_name level0\" >profession</th>\n",
       "      <th id=\"T_94598_level0_col0\" class=\"col_heading level0 col0\" >admin.</th>\n",
       "      <th id=\"T_94598_level0_col1\" class=\"col_heading level0 col1\" >blue-collar</th>\n",
       "      <th id=\"T_94598_level0_col2\" class=\"col_heading level0 col2\" >entrepreneur</th>\n",
       "      <th id=\"T_94598_level0_col3\" class=\"col_heading level0 col3\" >housemaid</th>\n",
       "      <th id=\"T_94598_level0_col4\" class=\"col_heading level0 col4\" >management</th>\n",
       "      <th id=\"T_94598_level0_col5\" class=\"col_heading level0 col5\" >retired</th>\n",
       "      <th id=\"T_94598_level0_col6\" class=\"col_heading level0 col6\" >self-employed</th>\n",
       "      <th id=\"T_94598_level0_col7\" class=\"col_heading level0 col7\" >services</th>\n",
       "      <th id=\"T_94598_level0_col8\" class=\"col_heading level0 col8\" >student</th>\n",
       "      <th id=\"T_94598_level0_col9\" class=\"col_heading level0 col9\" >technician</th>\n",
       "      <th id=\"T_94598_level0_col10\" class=\"col_heading level0 col10\" >unemployed</th>\n",
       "      <th id=\"T_94598_level0_col11\" class=\"col_heading level0 col11\" >unknown</th>\n",
       "    </tr>\n",
       "    <tr>\n",
       "      <th class=\"index_name level0\" >schooling</th>\n",
       "      <th class=\"blank col0\" >&nbsp;</th>\n",
       "      <th class=\"blank col1\" >&nbsp;</th>\n",
       "      <th class=\"blank col2\" >&nbsp;</th>\n",
       "      <th class=\"blank col3\" >&nbsp;</th>\n",
       "      <th class=\"blank col4\" >&nbsp;</th>\n",
       "      <th class=\"blank col5\" >&nbsp;</th>\n",
       "      <th class=\"blank col6\" >&nbsp;</th>\n",
       "      <th class=\"blank col7\" >&nbsp;</th>\n",
       "      <th class=\"blank col8\" >&nbsp;</th>\n",
       "      <th class=\"blank col9\" >&nbsp;</th>\n",
       "      <th class=\"blank col10\" >&nbsp;</th>\n",
       "      <th class=\"blank col11\" >&nbsp;</th>\n",
       "    </tr>\n",
       "  </thead>\n",
       "  <tbody>\n",
       "    <tr>\n",
       "      <th id=\"T_94598_level0_row0\" class=\"row_heading level0 row0\" >basic</th>\n",
       "      <td id=\"T_94598_row0_col0\" class=\"data row0 col0\" >5.732123</td>\n",
       "      <td id=\"T_94598_row0_col1\" class=\"data row0 col1\" >59.477866</td>\n",
       "      <td id=\"T_94598_row0_col2\" class=\"data row0 col2\" >3.234960</td>\n",
       "      <td id=\"T_94598_row0_col3\" class=\"data row0 col3\" >5.334847</td>\n",
       "      <td id=\"T_94598_row0_col4\" class=\"data row0 col4\" >2.667423</td>\n",
       "      <td id=\"T_94598_row0_col5\" class=\"data row0 col5\" >6.469921</td>\n",
       "      <td id=\"T_94598_row0_col6\" class=\"data row0 col6\" >2.667423</td>\n",
       "      <td id=\"T_94598_row0_col7\" class=\"data row0 col7\" >6.299659</td>\n",
       "      <td id=\"T_94598_row0_col8\" class=\"data row0 col8\" >0.681044</td>\n",
       "      <td id=\"T_94598_row0_col9\" class=\"data row0 col9\" >4.086266</td>\n",
       "      <td id=\"T_94598_row0_col10\" class=\"data row0 col10\" >2.610670</td>\n",
       "      <td id=\"T_94598_row0_col11\" class=\"data row0 col11\" >0.737798</td>\n",
       "    </tr>\n",
       "    <tr>\n",
       "      <th id=\"T_94598_level0_row1\" class=\"row_heading level0 row1\" >high.school</th>\n",
       "      <td id=\"T_94598_row1_col0\" class=\"data row1 col0\" >36.268657</td>\n",
       "      <td id=\"T_94598_row1_col1\" class=\"data row1 col1\" >8.805970</td>\n",
       "      <td id=\"T_94598_row1_col2\" class=\"data row1 col2\" >2.686567</td>\n",
       "      <td id=\"T_94598_row1_col3\" class=\"data row1 col3\" >1.492537</td>\n",
       "      <td id=\"T_94598_row1_col4\" class=\"data row1 col4\" >3.358209</td>\n",
       "      <td id=\"T_94598_row1_col5\" class=\"data row1 col5\" >2.313433</td>\n",
       "      <td id=\"T_94598_row1_col6\" class=\"data row1 col6\" >1.567164</td>\n",
       "      <td id=\"T_94598_row1_col7\" class=\"data row1 col7\" >27.985075</td>\n",
       "      <td id=\"T_94598_row1_col8\" class=\"data row1 col8\" >3.358209</td>\n",
       "      <td id=\"T_94598_row1_col9\" class=\"data row1 col9\" >9.179104</td>\n",
       "      <td id=\"T_94598_row1_col10\" class=\"data row1 col10\" >2.686567</td>\n",
       "      <td id=\"T_94598_row1_col11\" class=\"data row1 col11\" >0.298507</td>\n",
       "    </tr>\n",
       "    <tr>\n",
       "      <th id=\"T_94598_level0_row2\" class=\"row_heading level0 row2\" >illiterate</th>\n",
       "      <td id=\"T_94598_row2_col0\" class=\"data row2 col0\" >0.000000</td>\n",
       "      <td id=\"T_94598_row2_col1\" class=\"data row2 col1\" >0.000000</td>\n",
       "      <td id=\"T_94598_row2_col2\" class=\"data row2 col2\" >0.000000</td>\n",
       "      <td id=\"T_94598_row2_col3\" class=\"data row2 col3\" >0.000000</td>\n",
       "      <td id=\"T_94598_row2_col4\" class=\"data row2 col4\" >0.000000</td>\n",
       "      <td id=\"T_94598_row2_col5\" class=\"data row2 col5\" >0.000000</td>\n",
       "      <td id=\"T_94598_row2_col6\" class=\"data row2 col6\" >100.000000</td>\n",
       "      <td id=\"T_94598_row2_col7\" class=\"data row2 col7\" >0.000000</td>\n",
       "      <td id=\"T_94598_row2_col8\" class=\"data row2 col8\" >0.000000</td>\n",
       "      <td id=\"T_94598_row2_col9\" class=\"data row2 col9\" >0.000000</td>\n",
       "      <td id=\"T_94598_row2_col10\" class=\"data row2 col10\" >0.000000</td>\n",
       "      <td id=\"T_94598_row2_col11\" class=\"data row2 col11\" >0.000000</td>\n",
       "    </tr>\n",
       "    <tr>\n",
       "      <th id=\"T_94598_level0_row3\" class=\"row_heading level0 row3\" >professional.course</th>\n",
       "      <td id=\"T_94598_row3_col0\" class=\"data row3 col0\" >7.046070</td>\n",
       "      <td id=\"T_94598_row3_col1\" class=\"data row3 col1\" >9.756098</td>\n",
       "      <td id=\"T_94598_row3_col2\" class=\"data row3 col2\" >3.387534</td>\n",
       "      <td id=\"T_94598_row3_col3\" class=\"data row3 col3\" >1.761518</td>\n",
       "      <td id=\"T_94598_row3_col4\" class=\"data row3 col4\" >1.897019</td>\n",
       "      <td id=\"T_94598_row3_col5\" class=\"data row3 col5\" >4.065041</td>\n",
       "      <td id=\"T_94598_row3_col6\" class=\"data row3 col6\" >2.303523</td>\n",
       "      <td id=\"T_94598_row3_col7\" class=\"data row3 col7\" >4.065041</td>\n",
       "      <td id=\"T_94598_row3_col8\" class=\"data row3 col8\" >0.948509</td>\n",
       "      <td id=\"T_94598_row3_col9\" class=\"data row3 col9\" >62.466125</td>\n",
       "      <td id=\"T_94598_row3_col10\" class=\"data row3 col10\" >2.032520</td>\n",
       "      <td id=\"T_94598_row3_col11\" class=\"data row3 col11\" >0.271003</td>\n",
       "    </tr>\n",
       "    <tr>\n",
       "      <th id=\"T_94598_level0_row4\" class=\"row_heading level0 row4\" >university.degree</th>\n",
       "      <td id=\"T_94598_row4_col0\" class=\"data row4 col0\" >47.198151</td>\n",
       "      <td id=\"T_94598_row4_col1\" class=\"data row4 col1\" >0.693241</td>\n",
       "      <td id=\"T_94598_row4_col2\" class=\"data row4 col2\" >5.661467</td>\n",
       "      <td id=\"T_94598_row4_col3\" class=\"data row4 col3\" >1.270942</td>\n",
       "      <td id=\"T_94598_row4_col4\" class=\"data row4 col4\" >16.811092</td>\n",
       "      <td id=\"T_94598_row4_col5\" class=\"data row4 col5\" >2.195263</td>\n",
       "      <td id=\"T_94598_row4_col6\" class=\"data row4 col6\" >5.430387</td>\n",
       "      <td id=\"T_94598_row4_col7\" class=\"data row4 col7\" >1.328712</td>\n",
       "      <td id=\"T_94598_row4_col8\" class=\"data row4 col8\" >1.213172</td>\n",
       "      <td id=\"T_94598_row4_col9\" class=\"data row4 col9\" >16.233391</td>\n",
       "      <td id=\"T_94598_row4_col10\" class=\"data row4 col10\" >1.559792</td>\n",
       "      <td id=\"T_94598_row4_col11\" class=\"data row4 col11\" >0.404391</td>\n",
       "    </tr>\n",
       "    <tr>\n",
       "      <th id=\"T_94598_level0_row5\" class=\"row_heading level0 row5\" >unknown</th>\n",
       "      <td id=\"T_94598_row5_col0\" class=\"data row5 col0\" >16.538462</td>\n",
       "      <td id=\"T_94598_row5_col1\" class=\"data row5 col1\" >25.000000</td>\n",
       "      <td id=\"T_94598_row5_col2\" class=\"data row5 col2\" >3.461538</td>\n",
       "      <td id=\"T_94598_row5_col3\" class=\"data row5 col3\" >3.846154</td>\n",
       "      <td id=\"T_94598_row5_col4\" class=\"data row5 col4\" >6.923077</td>\n",
       "      <td id=\"T_94598_row5_col5\" class=\"data row5 col5\" >6.153846</td>\n",
       "      <td id=\"T_94598_row5_col6\" class=\"data row5 col6\" >1.923077</td>\n",
       "      <td id=\"T_94598_row5_col7\" class=\"data row5 col7\" >5.384615</td>\n",
       "      <td id=\"T_94598_row5_col8\" class=\"data row5 col8\" >9.230769</td>\n",
       "      <td id=\"T_94598_row5_col9\" class=\"data row5 col9\" >10.769231</td>\n",
       "      <td id=\"T_94598_row5_col10\" class=\"data row5 col10\" >0.384615</td>\n",
       "      <td id=\"T_94598_row5_col11\" class=\"data row5 col11\" >10.384615</td>\n",
       "    </tr>\n",
       "  </tbody>\n",
       "</table>\n"
      ],
      "text/plain": [
       "<pandas.io.formats.style.Styler at 0x1e21500cd90>"
      ]
     },
     "execution_count": 56,
     "metadata": {},
     "output_type": "execute_result"
    }
   ],
   "source": [
    "cross_tab = pd.crosstab(train_propensify['schooling'], train_propensify['profession'],normalize = 'index')*100\n",
    "highlighted_cross_tab = cross_tab.style.apply(lambda x: ['background-color: yellow' if val == x.max() else '' for val in x], axis=1)\n",
    "highlighted_cross_tab"
   ]
  },
  {
   "cell_type": "code",
   "execution_count": 57,
   "id": "fc7e93f0",
   "metadata": {},
   "outputs": [],
   "source": [
    "# Imputation of missing values in education based on profession\n",
    "\n",
    "imputation_mapping = {\n",
    "    'blue-collar' : 'basic',\n",
    "    'self-employed': 'illiterate',\n",
    "    'technician'   : 'professional.course',\n",
    "    'admin.'        : 'university.degree',\n",
    "    'services'      : 'high.school',\n",
    "    'management'    : 'university.degree',\n",
    "    'retired'       : 'unknown',\n",
    "    'entrepreneur'  : 'university.degree'\n",
    "}"
   ]
  },
  {
   "cell_type": "code",
   "execution_count": 58,
   "id": "7f23940d",
   "metadata": {},
   "outputs": [],
   "source": [
    "train_propensify['schooling'] = train_propensify['schooling'].combine_first(train_propensify['profession'].map(imputation_mapping))"
   ]
  },
  {
   "cell_type": "markdown",
   "id": "7509bb43",
   "metadata": {},
   "source": [
    " "
   ]
  },
  {
   "cell_type": "markdown",
   "id": "a29f80ff",
   "metadata": {},
   "source": [
    " "
   ]
  },
  {
   "cell_type": "markdown",
   "id": "8ccf331a",
   "metadata": {},
   "source": [
    " "
   ]
  },
  {
   "cell_type": "markdown",
   "id": "28499a8e",
   "metadata": {},
   "source": [
    "2. Treating missing age values\n",
    "The age of an individual can have an impact on the working status of the individual. A student's age can be much lower as compared to a retired individual while a working individual's age can be expected to lie in between these two categories.\n",
    "Hence the age values are imputed based on the employment status (created from profession column) of the individual.\n",
    "The plot of comparision for customer age across retired, student and working individuals supports the above argument."
   ]
  },
  {
   "cell_type": "code",
   "execution_count": 59,
   "id": "fc3c415a",
   "metadata": {},
   "outputs": [],
   "source": [
    "#Profession & treating missing values of age\n",
    "train_propensify['employment_status'] = train_propensify['profession'].apply(lambda x: 'retired' if x == 'retired' else ('student' if x == 'student' else 'working'))"
   ]
  },
  {
   "cell_type": "code",
   "execution_count": 60,
   "id": "bbc450dc",
   "metadata": {},
   "outputs": [
    {
     "data": {
      "image/png": "[encoded data removed]",
      "text/plain": [
       "<Figure size 1000x600 with 1 Axes>"
      ]
     },
     "metadata": {},
     "output_type": "display_data"
    }
   ],
   "source": [
    "#Age comparision w.r.t profession\n",
    "plt.figure(figsize=(10, 6))\n",
    "sns.boxplot(x='employment_status', y='custAge', data=train_propensify)\n",
    "plt.title('Comparison of customer age for Retired, Student, and Working')\n",
    "plt.xlabel('Employment Status')\n",
    "plt.ylabel('custAge')\n",
    "plt.show()"
   ]
  },
  {
   "cell_type": "markdown",
   "id": "460943c0",
   "metadata": {},
   "source": [
    "Imputing mean values for missing age values of retired and student categories and imputing with median for working category \n",
    "(As there are outliers in this category)"
   ]
  },
  {
   "cell_type": "code",
   "execution_count": 61,
   "id": "cb4f4a53",
   "metadata": {},
   "outputs": [],
   "source": [
    "# Imputing age values\n",
    "# Calculate mean and median values for each profession\n",
    "mean_age_retired = train_propensify.loc[train_propensify['employment_status'] == 'retired', 'custAge'].mean()\n",
    "mean_age_student = train_propensify.loc[train_propensify['employment_status'] == 'student', 'custAge'].mean()\n",
    "median_age_working = train_propensify.loc[train_propensify['employment_status'] == 'working', 'custAge'].median()\n",
    "\n",
    "# Fill missing values based on profession-specific mean or median\n",
    "train_propensify['custAge'] = np.where((train_propensify['employment_status'] == 'retired') & train_propensify['custAge'].isna(), mean_age_retired, train_propensify['custAge'])\n",
    "train_propensify['custAge'] = np.where((train_propensify['employment_status'] == 'student') & train_propensify['custAge'].isna(), mean_age_student, train_propensify['custAge'])\n",
    "train_propensify['custAge'] = np.where((train_propensify['employment_status'] == 'working') & train_propensify['custAge'].isna(), median_age_working, train_propensify['custAge'])\n"
   ]
  },
  {
   "cell_type": "markdown",
   "id": "335a903f",
   "metadata": {},
   "source": [
    " "
   ]
  },
  {
   "cell_type": "markdown",
   "id": "dcc7c3c2",
   "metadata": {},
   "source": [
    " "
   ]
  },
  {
   "cell_type": "markdown",
   "id": "ce128898",
   "metadata": {},
   "source": [
    "3. Imputing day of week variable:\n",
    "    The distribution of day of week plot can show that marketing campaign is equally distributed among all the days. Hence the\n",
    "    missing values of day of the week are imputed based on random function."
   ]
  },
  {
   "cell_type": "code",
   "execution_count": 62,
   "id": "d441caf8",
   "metadata": {},
   "outputs": [
    {
     "name": "stdout",
     "output_type": "stream",
     "text": [
      "day_of_week\n",
      "mon    1598\n",
      "thu    1533\n",
      "tue    1478\n",
      "wed    1473\n",
      "fri    1369\n",
      "Name: count, dtype: int64\n"
     ]
    }
   ],
   "source": [
    "day_values = train_propensify['day_of_week'].value_counts()\n",
    "print(day_values)"
   ]
  },
  {
   "cell_type": "code",
   "execution_count": 63,
   "id": "1a1d9e41",
   "metadata": {},
   "outputs": [
    {
     "data": {
      "text/html": [
       "<style type=\"text/css\">\n",
       "#T_debbb_row0_col0, #T_debbb_row1_col0, #T_debbb_row2_col0, #T_debbb_row3_col0, #T_debbb_row4_col0 {\n",
       "  background-color: yellow;\n",
       "}\n",
       "</style>\n",
       "<table id=\"T_debbb\">\n",
       "  <thead>\n",
       "    <tr>\n",
       "      <th class=\"index_name level0\" >responded</th>\n",
       "      <th id=\"T_debbb_level0_col0\" class=\"col_heading level0 col0\" >no</th>\n",
       "      <th id=\"T_debbb_level0_col1\" class=\"col_heading level0 col1\" >yes</th>\n",
       "    </tr>\n",
       "    <tr>\n",
       "      <th class=\"index_name level0\" >day_of_week</th>\n",
       "      <th class=\"blank col0\" >&nbsp;</th>\n",
       "      <th class=\"blank col1\" >&nbsp;</th>\n",
       "    </tr>\n",
       "  </thead>\n",
       "  <tbody>\n",
       "    <tr>\n",
       "      <th id=\"T_debbb_level0_row0\" class=\"row_heading level0 row0\" >fri</th>\n",
       "      <td id=\"T_debbb_row0_col0\" class=\"data row0 col0\" >88.093499</td>\n",
       "      <td id=\"T_debbb_row0_col1\" class=\"data row0 col1\" >11.906501</td>\n",
       "    </tr>\n",
       "    <tr>\n",
       "      <th id=\"T_debbb_level0_row1\" class=\"row_heading level0 row1\" >mon</th>\n",
       "      <td id=\"T_debbb_row1_col0\" class=\"data row1 col0\" >90.488110</td>\n",
       "      <td id=\"T_debbb_row1_col1\" class=\"data row1 col1\" >9.511890</td>\n",
       "    </tr>\n",
       "    <tr>\n",
       "      <th id=\"T_debbb_level0_row2\" class=\"row_heading level0 row2\" >thu</th>\n",
       "      <td id=\"T_debbb_row2_col0\" class=\"data row2 col0\" >87.932159</td>\n",
       "      <td id=\"T_debbb_row2_col1\" class=\"data row2 col1\" >12.067841</td>\n",
       "    </tr>\n",
       "    <tr>\n",
       "      <th id=\"T_debbb_level0_row3\" class=\"row_heading level0 row3\" >tue</th>\n",
       "      <td id=\"T_debbb_row3_col0\" class=\"data row3 col0\" >88.159675</td>\n",
       "      <td id=\"T_debbb_row3_col1\" class=\"data row3 col1\" >11.840325</td>\n",
       "    </tr>\n",
       "    <tr>\n",
       "      <th id=\"T_debbb_level0_row4\" class=\"row_heading level0 row4\" >wed</th>\n",
       "      <td id=\"T_debbb_row4_col0\" class=\"data row4 col0\" >89.341480</td>\n",
       "      <td id=\"T_debbb_row4_col1\" class=\"data row4 col1\" >10.658520</td>\n",
       "    </tr>\n",
       "  </tbody>\n",
       "</table>\n"
      ],
      "text/plain": [
       "<pandas.io.formats.style.Styler at 0x1e214c2d250>"
      ]
     },
     "execution_count": 63,
     "metadata": {},
     "output_type": "execute_result"
    }
   ],
   "source": [
    "cross_tab = pd.crosstab(train_propensify['day_of_week'], train_propensify['responded'],normalize = 'index')*100\n",
    "highlighted_cross_tab = cross_tab.style.apply(lambda x: ['background-color: yellow' if val == x.max() else '' for val in x], axis=1)\n",
    "highlighted_cross_tab"
   ]
  },
  {
   "cell_type": "code",
   "execution_count": 64,
   "id": "ce092a4a",
   "metadata": {},
   "outputs": [
    {
     "data": {
      "image/png": "[encoded data removed]",
      "text/plain": [
       "<Figure size 1000x600 with 1 Axes>"
      ]
     },
     "metadata": {},
     "output_type": "display_data"
    }
   ],
   "source": [
    "#day of week\n",
    "plt.figure(figsize=(10, 6))\n",
    "sns.countplot(x='day_of_week', data=train_propensify, order=['mon', 'tue', 'wed', 'thu', 'fri'])\n",
    "plt.title('Distribution of day_of_week')\n",
    "plt.xlabel('Day of Week')\n",
    "plt.ylabel('Count')\n",
    "plt.show()"
   ]
  },
  {
   "cell_type": "code",
   "execution_count": 65,
   "id": "b031981f",
   "metadata": {},
   "outputs": [],
   "source": [
    "def impute_random_day(day):\n",
    "    if pd.isna(day):\n",
    "        return np.random.choice(['mon', 'tue', 'wed', 'thu', 'fri'])\n",
    "    else:\n",
    "        return day\n",
    "\n",
    "# Apply the imputation function to the 'day_of_week' column\n",
    "train_propensify['day_of_week'] = train_propensify['day_of_week'].apply(impute_random_day)"
   ]
  },
  {
   "cell_type": "code",
   "execution_count": 66,
   "id": "64bb56c0",
   "metadata": {},
   "outputs": [
    {
     "name": "stdout",
     "output_type": "stream",
     "text": [
      "Number of missing values in each column:\n",
      "custAge                0\n",
      "profession             2\n",
      "marital                2\n",
      "schooling            189\n",
      "default                2\n",
      "housing                2\n",
      "loan                   2\n",
      "contact                2\n",
      "month                  2\n",
      "day_of_week            0\n",
      "campaign               2\n",
      "pdays                  2\n",
      "previous               2\n",
      "poutcome               2\n",
      "emp.var.rate           2\n",
      "cons.price.idx         2\n",
      "cons.conf.idx          2\n",
      "euribor3m              2\n",
      "nr.employed            2\n",
      "pmonths                2\n",
      "pastEmail              2\n",
      "responded              2\n",
      "employment_status      0\n",
      "dtype: int64\n"
     ]
    }
   ],
   "source": [
    "missing_values = train_propensify.isnull().sum()\n",
    "print(\"Number of missing values in each column:\")\n",
    "print(missing_values)"
   ]
  },
  {
   "cell_type": "markdown",
   "id": "9738ab5e",
   "metadata": {},
   "source": [
    "Dropping the remaining missing values (which are minimal as compared to the data frame size)"
   ]
  },
  {
   "cell_type": "code",
   "execution_count": 67,
   "id": "a57b6754",
   "metadata": {},
   "outputs": [],
   "source": [
    "#Now, dropping remaining missing values\n",
    "train_propensify = train_propensify.dropna()"
   ]
  },
  {
   "cell_type": "code",
   "execution_count": 68,
   "id": "e232dc3b",
   "metadata": {},
   "outputs": [
    {
     "name": "stdout",
     "output_type": "stream",
     "text": [
      "Number of missing values in each column:\n",
      "custAge              0\n",
      "profession           0\n",
      "marital              0\n",
      "schooling            0\n",
      "default              0\n",
      "housing              0\n",
      "loan                 0\n",
      "contact              0\n",
      "month                0\n",
      "day_of_week          0\n",
      "campaign             0\n",
      "pdays                0\n",
      "previous             0\n",
      "poutcome             0\n",
      "emp.var.rate         0\n",
      "cons.price.idx       0\n",
      "cons.conf.idx        0\n",
      "euribor3m            0\n",
      "nr.employed          0\n",
      "pmonths              0\n",
      "pastEmail            0\n",
      "responded            0\n",
      "employment_status    0\n",
      "dtype: int64\n"
     ]
    }
   ],
   "source": [
    "#cross check\n",
    "missing_values = train_propensify.isnull().sum()\n",
    "print(\"Number of missing values in each column:\")\n",
    "print(missing_values)"
   ]
  },
  {
   "cell_type": "code",
   "execution_count": 69,
   "id": "36a9637e",
   "metadata": {},
   "outputs": [
    {
     "data": {
      "text/plain": [
       "(8051, 23)"
      ]
     },
     "execution_count": 69,
     "metadata": {},
     "output_type": "execute_result"
    }
   ],
   "source": [
    "train_propensify.shape"
   ]
  },
  {
   "cell_type": "markdown",
   "id": "d5ae6ea6",
   "metadata": {},
   "source": [
    "-------------------------------------------------------------------------------------------------------------------------------"
   ]
  },
  {
   "cell_type": "markdown",
   "id": "1b02b3f4",
   "metadata": {},
   "source": [
    "# Feature Engineering "
   ]
  },
  {
   "cell_type": "markdown",
   "id": "a8bf0972",
   "metadata": {},
   "source": [
    " "
   ]
  },
  {
   "cell_type": "markdown",
   "id": "d7127206",
   "metadata": {},
   "source": [
    "Feature engineering of categorical variables:"
   ]
  },
  {
   "cell_type": "markdown",
   "id": "8b289c9f",
   "metadata": {},
   "source": [
    "1. Profession:\n",
    "The profession can be label encoded whether an individual is dependent or working. Dependents insurance is in general \n",
    "taken care by the head of the family or by the state. Hence the label encoding is done accordingly."
   ]
  },
  {
   "cell_type": "code",
   "execution_count": 70,
   "id": "75627193",
   "metadata": {},
   "outputs": [
    {
     "data": {
      "image/png": "[encoded data removed]",
      "text/plain": [
       "<Figure size 640x480 with 1 Axes>"
      ]
     },
     "metadata": {},
     "output_type": "display_data"
    }
   ],
   "source": [
    "\n",
    "#1. Profession\n",
    "train_propensify['profession'].value_counts().plot(kind='bar', color='skyblue', edgecolor='black')\n",
    "plt.title('profession')\n",
    "plt.xlabel('profession')\n",
    "plt.ylabel('profession')\n",
    "plt.show()"
   ]
  },
  {
   "cell_type": "code",
   "execution_count": 71,
   "id": "597791c3",
   "metadata": {},
   "outputs": [
    {
     "data": {
      "text/html": [
       "<style type=\"text/css\">\n",
       "#T_d991b_row0_col0, #T_d991b_row1_col0, #T_d991b_row2_col0, #T_d991b_row3_col0, #T_d991b_row4_col0, #T_d991b_row5_col0, #T_d991b_row6_col0, #T_d991b_row7_col0, #T_d991b_row8_col0, #T_d991b_row9_col0, #T_d991b_row10_col0, #T_d991b_row11_col0 {\n",
       "  background-color: yellow;\n",
       "}\n",
       "</style>\n",
       "<table id=\"T_d991b\">\n",
       "  <thead>\n",
       "    <tr>\n",
       "      <th class=\"index_name level0\" >responded</th>\n",
       "      <th id=\"T_d991b_level0_col0\" class=\"col_heading level0 col0\" >no</th>\n",
       "      <th id=\"T_d991b_level0_col1\" class=\"col_heading level0 col1\" >yes</th>\n",
       "    </tr>\n",
       "    <tr>\n",
       "      <th class=\"index_name level0\" >profession</th>\n",
       "      <th class=\"blank col0\" >&nbsp;</th>\n",
       "      <th class=\"blank col1\" >&nbsp;</th>\n",
       "    </tr>\n",
       "  </thead>\n",
       "  <tbody>\n",
       "    <tr>\n",
       "      <th id=\"T_d991b_level0_row0\" class=\"row_heading level0 row0\" >admin.</th>\n",
       "      <td id=\"T_d991b_row0_col0\" class=\"data row0 col0\" >87.155090</td>\n",
       "      <td id=\"T_d991b_row0_col1\" class=\"data row0 col1\" >12.844910</td>\n",
       "    </tr>\n",
       "    <tr>\n",
       "      <th id=\"T_d991b_level0_row1\" class=\"row_heading level0 row1\" >blue-collar</th>\n",
       "      <td id=\"T_d991b_row1_col0\" class=\"data row1 col0\" >91.932864</td>\n",
       "      <td id=\"T_d991b_row1_col1\" class=\"data row1 col1\" >8.067136</td>\n",
       "    </tr>\n",
       "    <tr>\n",
       "      <th id=\"T_d991b_level0_row2\" class=\"row_heading level0 row2\" >entrepreneur</th>\n",
       "      <td id=\"T_d991b_row2_col0\" class=\"data row2 col0\" >90.764331</td>\n",
       "      <td id=\"T_d991b_row2_col1\" class=\"data row2 col1\" >9.235669</td>\n",
       "    </tr>\n",
       "    <tr>\n",
       "      <th id=\"T_d991b_level0_row3\" class=\"row_heading level0 row3\" >housemaid</th>\n",
       "      <td id=\"T_d991b_row3_col0\" class=\"data row3 col0\" >91.194969</td>\n",
       "      <td id=\"T_d991b_row3_col1\" class=\"data row3 col1\" >8.805031</td>\n",
       "    </tr>\n",
       "    <tr>\n",
       "      <th id=\"T_d991b_level0_row4\" class=\"row_heading level0 row4\" >management</th>\n",
       "      <td id=\"T_d991b_row4_col0\" class=\"data row4 col0\" >88.850772</td>\n",
       "      <td id=\"T_d991b_row4_col1\" class=\"data row4 col1\" >11.149228</td>\n",
       "    </tr>\n",
       "    <tr>\n",
       "      <th id=\"T_d991b_level0_row5\" class=\"row_heading level0 row5\" >retired</th>\n",
       "      <td id=\"T_d991b_row5_col0\" class=\"data row5 col0\" >76.557864</td>\n",
       "      <td id=\"T_d991b_row5_col1\" class=\"data row5 col1\" >23.442136</td>\n",
       "    </tr>\n",
       "    <tr>\n",
       "      <th id=\"T_d991b_level0_row6\" class=\"row_heading level0 row6\" >self-employed</th>\n",
       "      <td id=\"T_d991b_row6_col0\" class=\"data row6 col0\" >87.813620</td>\n",
       "      <td id=\"T_d991b_row6_col1\" class=\"data row6 col1\" >12.186380</td>\n",
       "    </tr>\n",
       "    <tr>\n",
       "      <th id=\"T_d991b_level0_row7\" class=\"row_heading level0 row7\" >services</th>\n",
       "      <td id=\"T_d991b_row7_col0\" class=\"data row7 col0\" >92.550505</td>\n",
       "      <td id=\"T_d991b_row7_col1\" class=\"data row7 col1\" >7.449495</td>\n",
       "    </tr>\n",
       "    <tr>\n",
       "      <th id=\"T_d991b_level0_row8\" class=\"row_heading level0 row8\" >student</th>\n",
       "      <td id=\"T_d991b_row8_col0\" class=\"data row8 col0\" >63.302752</td>\n",
       "      <td id=\"T_d991b_row8_col1\" class=\"data row8 col1\" >36.697248</td>\n",
       "    </tr>\n",
       "    <tr>\n",
       "      <th id=\"T_d991b_level0_row9\" class=\"row_heading level0 row9\" >technician</th>\n",
       "      <td id=\"T_d991b_row9_col0\" class=\"data row9 col0\" >90.155440</td>\n",
       "      <td id=\"T_d991b_row9_col1\" class=\"data row9 col1\" >9.844560</td>\n",
       "    </tr>\n",
       "    <tr>\n",
       "      <th id=\"T_d991b_level0_row10\" class=\"row_heading level0 row10\" >unemployed</th>\n",
       "      <td id=\"T_d991b_row10_col0\" class=\"data row10 col0\" >84.000000</td>\n",
       "      <td id=\"T_d991b_row10_col1\" class=\"data row10 col1\" >16.000000</td>\n",
       "    </tr>\n",
       "    <tr>\n",
       "      <th id=\"T_d991b_level0_row11\" class=\"row_heading level0 row11\" >unknown</th>\n",
       "      <td id=\"T_d991b_row11_col0\" class=\"data row11 col0\" >84.905660</td>\n",
       "      <td id=\"T_d991b_row11_col1\" class=\"data row11 col1\" >15.094340</td>\n",
       "    </tr>\n",
       "  </tbody>\n",
       "</table>\n"
      ],
      "text/plain": [
       "<pandas.io.formats.style.Styler at 0x1e214cd7d10>"
      ]
     },
     "execution_count": 71,
     "metadata": {},
     "output_type": "execute_result"
    }
   ],
   "source": [
    "cross_tab = pd.crosstab(train_propensify['profession'], train_propensify['responded'],normalize = 'index')*100\n",
    "highlighted_cross_tab = cross_tab.style.apply(lambda x: ['background-color: yellow' if val == x.max() else '' for val in x], axis=1)\n",
    "highlighted_cross_tab"
   ]
  },
  {
   "cell_type": "code",
   "execution_count": 72,
   "id": "74df7a23",
   "metadata": {},
   "outputs": [
    {
     "data": {
      "text/plain": [
       "profession\n",
       "Working               7427\n",
       "Dependents             446\n",
       "Unemployed&Unknown     178\n",
       "Name: count, dtype: int64"
      ]
     },
     "execution_count": 72,
     "metadata": {},
     "output_type": "execute_result"
    }
   ],
   "source": [
    "#Label encoding\n",
    "train_propensify['profession'] = train_propensify['profession'].map({'student': 'Dependents', 'retired': 'Dependents', 'unemployed': 'Unemployed&Unknown', 'unknown': 'Unemployed&Unknown', \n",
    "                                                    'admin.': 'Working','blue-collar': 'Working','entrepreneur': 'Working','housemaid': 'Working',\n",
    "                                                   'management': 'Working','self-employed': 'Working','services': 'Working','technician': 'Working'})\n",
    "\n",
    "# Display the updated DataFrame\n",
    "train_propensify['profession'].value_counts()"
   ]
  },
  {
   "cell_type": "markdown",
   "id": "9d9d769e",
   "metadata": {},
   "source": [
    "2. Marital:\n",
    "Considering single and divorcee as a single caregory and keeping married and unknown as different categories"
   ]
  },
  {
   "cell_type": "code",
   "execution_count": 73,
   "id": "e86dc2c5",
   "metadata": {},
   "outputs": [
    {
     "data": {
      "image/png": "[encoded data removed]",
      "text/plain": [
       "<Figure size 640x480 with 1 Axes>"
      ]
     },
     "metadata": {},
     "output_type": "display_data"
    }
   ],
   "source": [
    "#2. Marital\n",
    "train_propensify['marital'].value_counts().plot(kind='bar', color='skyblue', edgecolor='black')\n",
    "plt.title('marital')\n",
    "plt.xlabel('marital')\n",
    "plt.ylabel('marital')\n",
    "plt.show()"
   ]
  },
  {
   "cell_type": "code",
   "execution_count": 74,
   "id": "3577ee1f",
   "metadata": {},
   "outputs": [
    {
     "data": {
      "text/html": [
       "<style type=\"text/css\">\n",
       "#T_24315_row0_col0, #T_24315_row1_col0, #T_24315_row2_col0, #T_24315_row3_col0 {\n",
       "  background-color: yellow;\n",
       "}\n",
       "</style>\n",
       "<table id=\"T_24315\">\n",
       "  <thead>\n",
       "    <tr>\n",
       "      <th class=\"index_name level0\" >responded</th>\n",
       "      <th id=\"T_24315_level0_col0\" class=\"col_heading level0 col0\" >no</th>\n",
       "      <th id=\"T_24315_level0_col1\" class=\"col_heading level0 col1\" >yes</th>\n",
       "    </tr>\n",
       "    <tr>\n",
       "      <th class=\"index_name level0\" >marital</th>\n",
       "      <th class=\"blank col0\" >&nbsp;</th>\n",
       "      <th class=\"blank col1\" >&nbsp;</th>\n",
       "    </tr>\n",
       "  </thead>\n",
       "  <tbody>\n",
       "    <tr>\n",
       "      <th id=\"T_24315_level0_row0\" class=\"row_heading level0 row0\" >divorced</th>\n",
       "      <td id=\"T_24315_row0_col0\" class=\"data row0 col0\" >89.934354</td>\n",
       "      <td id=\"T_24315_row0_col1\" class=\"data row0 col1\" >10.065646</td>\n",
       "    </tr>\n",
       "    <tr>\n",
       "      <th id=\"T_24315_level0_row1\" class=\"row_heading level0 row1\" >married</th>\n",
       "      <td id=\"T_24315_row1_col0\" class=\"data row1 col0\" >89.728283</td>\n",
       "      <td id=\"T_24315_row1_col1\" class=\"data row1 col1\" >10.271717</td>\n",
       "    </tr>\n",
       "    <tr>\n",
       "      <th id=\"T_24315_level0_row2\" class=\"row_heading level0 row2\" >single</th>\n",
       "      <td id=\"T_24315_row2_col0\" class=\"data row2 col0\" >86.475771</td>\n",
       "      <td id=\"T_24315_row2_col1\" class=\"data row2 col1\" >13.524229</td>\n",
       "    </tr>\n",
       "    <tr>\n",
       "      <th id=\"T_24315_level0_row3\" class=\"row_heading level0 row3\" >unknown</th>\n",
       "      <td id=\"T_24315_row3_col0\" class=\"data row3 col0\" >77.777778</td>\n",
       "      <td id=\"T_24315_row3_col1\" class=\"data row3 col1\" >22.222222</td>\n",
       "    </tr>\n",
       "  </tbody>\n",
       "</table>\n"
      ],
      "text/plain": [
       "<pandas.io.formats.style.Styler at 0x1e214deb650>"
      ]
     },
     "execution_count": 74,
     "metadata": {},
     "output_type": "execute_result"
    }
   ],
   "source": [
    "cross_tab = pd.crosstab(train_propensify['marital'], train_propensify['responded'],normalize = 'index')*100\n",
    "highlighted_cross_tab = cross_tab.style.apply(lambda x: ['background-color: yellow' if val == x.max() else '' for val in x], axis=1)\n",
    "highlighted_cross_tab"
   ]
  },
  {
   "cell_type": "code",
   "execution_count": 75,
   "id": "03feb958",
   "metadata": {},
   "outputs": [
    {
     "data": {
      "text/plain": [
       "marital\n",
       "married            4858\n",
       "Single&Divorced    3184\n",
       "Unknown               9\n",
       "Name: count, dtype: int64"
      ]
     },
     "execution_count": 75,
     "metadata": {},
     "output_type": "execute_result"
    }
   ],
   "source": [
    "#Label encoding\n",
    "train_propensify['marital'] = train_propensify['marital'].map({'single': 'Single&Divorced', 'divorced': 'Single&Divorced', \n",
    "                                                                     'married': 'married', 'unknown': 'Unknown', })\n",
    "\n",
    "# Display the updated DataFrame\n",
    "train_propensify['marital'].value_counts()"
   ]
  },
  {
   "cell_type": "markdown",
   "id": "ec56943e",
   "metadata": {},
   "source": [
    "3. Schooling:\n",
    "An indiviudual's education can explain whether an indiidual is illiterate, or basic-educated or educated. Label encoding accordingly."
   ]
  },
  {
   "cell_type": "code",
   "execution_count": 76,
   "id": "859e6faf",
   "metadata": {},
   "outputs": [
    {
     "data": {
      "image/png": "[encoded data removed]",
      "text/plain": [
       "<Figure size 640x480 with 1 Axes>"
      ]
     },
     "metadata": {},
     "output_type": "display_data"
    }
   ],
   "source": [
    "#3. Schooling\n",
    "train_propensify['schooling'].value_counts().plot(kind='bar', color='skyblue', edgecolor='black')\n",
    "plt.title('schooling')\n",
    "plt.xlabel('schooling')\n",
    "plt.ylabel('schooling')\n",
    "plt.show()"
   ]
  },
  {
   "cell_type": "code",
   "execution_count": 77,
   "id": "93b27774",
   "metadata": {},
   "outputs": [
    {
     "data": {
      "text/html": [
       "<style type=\"text/css\">\n",
       "#T_0b20c_row0_col0, #T_0b20c_row1_col0, #T_0b20c_row2_col0, #T_0b20c_row3_col0, #T_0b20c_row4_col0, #T_0b20c_row5_col0 {\n",
       "  background-color: yellow;\n",
       "}\n",
       "</style>\n",
       "<table id=\"T_0b20c\">\n",
       "  <thead>\n",
       "    <tr>\n",
       "      <th class=\"index_name level0\" >responded</th>\n",
       "      <th id=\"T_0b20c_level0_col0\" class=\"col_heading level0 col0\" >no</th>\n",
       "      <th id=\"T_0b20c_level0_col1\" class=\"col_heading level0 col1\" >yes</th>\n",
       "    </tr>\n",
       "    <tr>\n",
       "      <th class=\"index_name level0\" >schooling</th>\n",
       "      <th class=\"blank col0\" >&nbsp;</th>\n",
       "      <th class=\"blank col1\" >&nbsp;</th>\n",
       "    </tr>\n",
       "  </thead>\n",
       "  <tbody>\n",
       "    <tr>\n",
       "      <th id=\"T_0b20c_level0_row0\" class=\"row_heading level0 row0\" >basic</th>\n",
       "      <td id=\"T_0b20c_row0_col0\" class=\"data row0 col0\" >91.325196</td>\n",
       "      <td id=\"T_0b20c_row0_col1\" class=\"data row0 col1\" >8.674804</td>\n",
       "    </tr>\n",
       "    <tr>\n",
       "      <th id=\"T_0b20c_level0_row1\" class=\"row_heading level0 row1\" >high.school</th>\n",
       "      <td id=\"T_0b20c_row1_col0\" class=\"data row1 col0\" >89.550348</td>\n",
       "      <td id=\"T_0b20c_row1_col1\" class=\"data row1 col1\" >10.449652</td>\n",
       "    </tr>\n",
       "    <tr>\n",
       "      <th id=\"T_0b20c_level0_row2\" class=\"row_heading level0 row2\" >illiterate</th>\n",
       "      <td id=\"T_0b20c_row2_col0\" class=\"data row2 col0\" >87.368421</td>\n",
       "      <td id=\"T_0b20c_row2_col1\" class=\"data row2 col1\" >12.631579</td>\n",
       "    </tr>\n",
       "    <tr>\n",
       "      <th id=\"T_0b20c_level0_row3\" class=\"row_heading level0 row3\" >professional.course</th>\n",
       "      <td id=\"T_0b20c_row3_col0\" class=\"data row3 col0\" >89.412811</td>\n",
       "      <td id=\"T_0b20c_row3_col1\" class=\"data row3 col1\" >10.587189</td>\n",
       "    </tr>\n",
       "    <tr>\n",
       "      <th id=\"T_0b20c_level0_row4\" class=\"row_heading level0 row4\" >university.degree</th>\n",
       "      <td id=\"T_0b20c_row4_col0\" class=\"data row4 col0\" >87.032034</td>\n",
       "      <td id=\"T_0b20c_row4_col1\" class=\"data row4 col1\" >12.967966</td>\n",
       "    </tr>\n",
       "    <tr>\n",
       "      <th id=\"T_0b20c_level0_row5\" class=\"row_heading level0 row5\" >unknown</th>\n",
       "      <td id=\"T_0b20c_row5_col0\" class=\"data row5 col0\" >81.250000</td>\n",
       "      <td id=\"T_0b20c_row5_col1\" class=\"data row5 col1\" >18.750000</td>\n",
       "    </tr>\n",
       "  </tbody>\n",
       "</table>\n"
      ],
      "text/plain": [
       "<pandas.io.formats.style.Styler at 0x1e214bb4d50>"
      ]
     },
     "execution_count": 77,
     "metadata": {},
     "output_type": "execute_result"
    }
   ],
   "source": [
    "cross_tab = pd.crosstab(train_propensify['schooling'], train_propensify['responded'],normalize = 'index')*100\n",
    "highlighted_cross_tab = cross_tab.style.apply(lambda x: ['background-color: yellow' if val == x.max() else '' for val in x], axis=1)\n",
    "highlighted_cross_tab"
   ]
  },
  {
   "cell_type": "code",
   "execution_count": 78,
   "id": "7f561107",
   "metadata": {},
   "outputs": [
    {
     "data": {
      "text/plain": [
       "schooling\n",
       "Uneducated&BasicEducation    3968\n",
       "Educated                     3715\n",
       "Unknown                       368\n",
       "Name: count, dtype: int64"
      ]
     },
     "execution_count": 78,
     "metadata": {},
     "output_type": "execute_result"
    }
   ],
   "source": [
    "#Label encoding\n",
    "train_propensify['schooling'] = train_propensify['schooling'].map({'basic': 'Uneducated&BasicEducation', 'high.school': 'Uneducated&BasicEducation', \n",
    "                                                                     'illiterate': 'Uneducated&BasicEducation', \n",
    "                                                                   'unknown': 'Unknown',\n",
    "                                                                  'professional.course': 'Educated',\n",
    "                                                                  'university.degree': 'Educated',\n",
    "                                                                  })\n",
    "\n",
    "# Display the updated DataFrame\n",
    "train_propensify['schooling'].value_counts()"
   ]
  },
  {
   "cell_type": "markdown",
   "id": "5f996855",
   "metadata": {},
   "source": [
    "4. Default:\n",
    "Yes and Unknown are grouped together and No is kept as a seperate category"
   ]
  },
  {
   "cell_type": "code",
   "execution_count": 79,
   "id": "cad156d1",
   "metadata": {},
   "outputs": [
    {
     "data": {
      "image/png": "[encoded data removed]",
      "text/plain": [
       "<Figure size 640x480 with 1 Axes>"
      ]
     },
     "metadata": {},
     "output_type": "display_data"
    }
   ],
   "source": [
    "#Default\n",
    "train_propensify['default'].value_counts().plot(kind='bar', color='skyblue', edgecolor='black')\n",
    "plt.title('default')\n",
    "plt.xlabel('default')\n",
    "plt.ylabel('default')\n",
    "plt.show()"
   ]
  },
  {
   "cell_type": "code",
   "execution_count": 80,
   "id": "f21caa1f",
   "metadata": {},
   "outputs": [
    {
     "data": {
      "text/plain": [
       "default\n",
       "No             6470\n",
       "Yes&Unknown    1581\n",
       "Name: count, dtype: int64"
      ]
     },
     "execution_count": 80,
     "metadata": {},
     "output_type": "execute_result"
    }
   ],
   "source": [
    "#Label encoding\n",
    "train_propensify['default'] = train_propensify['default'].map({'no': 'No', 'unknown': 'Yes&Unknown','yes':'Yes&Unknown' })\n",
    "\n",
    "# Display the updated DataFrame\n",
    "train_propensify['default'].value_counts()"
   ]
  },
  {
   "cell_type": "markdown",
   "id": "eacc299d",
   "metadata": {},
   "source": [
    "5. Housing is kept unchanged"
   ]
  },
  {
   "cell_type": "code",
   "execution_count": 81,
   "id": "259e3f05",
   "metadata": {},
   "outputs": [
    {
     "data": {
      "image/png": "[encoded data removed]",
      "text/plain": [
       "<Figure size 640x480 with 1 Axes>"
      ]
     },
     "metadata": {},
     "output_type": "display_data"
    }
   ],
   "source": [
    "#housing\n",
    "train_propensify['housing'].value_counts().plot(kind='bar', color='skyblue', edgecolor='black')\n",
    "plt.title('housing')\n",
    "plt.xlabel('housing')\n",
    "plt.ylabel('housing')\n",
    "plt.show()"
   ]
  },
  {
   "cell_type": "markdown",
   "id": "341c2c73",
   "metadata": {},
   "source": [
    "6. Loan is kept unchanged"
   ]
  },
  {
   "cell_type": "code",
   "execution_count": 82,
   "id": "91c681f6",
   "metadata": {},
   "outputs": [
    {
     "data": {
      "image/png": "[encoded data removed]",
      "text/plain": [
       "<Figure size 640x480 with 1 Axes>"
      ]
     },
     "metadata": {},
     "output_type": "display_data"
    }
   ],
   "source": [
    "#loan\n",
    "train_propensify['loan'].value_counts().plot(kind='bar', color='skyblue', edgecolor='black')\n",
    "plt.title('loan')\n",
    "plt.xlabel('loan')\n",
    "plt.ylabel('loan')\n",
    "plt.show()"
   ]
  },
  {
   "cell_type": "markdown",
   "id": "dbaa700f",
   "metadata": {},
   "source": [
    "7. Contact is kept unchanged"
   ]
  },
  {
   "cell_type": "code",
   "execution_count": 83,
   "id": "e3471e30",
   "metadata": {},
   "outputs": [
    {
     "data": {
      "image/png": "[encoded data removed]",
      "text/plain": [
       "<Figure size 640x480 with 1 Axes>"
      ]
     },
     "metadata": {},
     "output_type": "display_data"
    }
   ],
   "source": [
    "#contact\n",
    "train_propensify['contact'].value_counts().plot(kind='bar', color='skyblue', edgecolor='black')\n",
    "plt.title('contact')\n",
    "plt.xlabel('contact')\n",
    "plt.ylabel('contact')\n",
    "plt.show()"
   ]
  },
  {
   "cell_type": "markdown",
   "id": "fa982db9",
   "metadata": {},
   "source": [
    "8. Month:\n",
    "Sales team tend to have sales pressure in quarter end hence there is a possibility to focus on marketing campaign on these months. Hence label encoding accordingly"
   ]
  },
  {
   "cell_type": "code",
   "execution_count": 84,
   "id": "b6217f62",
   "metadata": {},
   "outputs": [
    {
     "data": {
      "image/png": "[encoded data removed]",
      "text/plain": [
       "<Figure size 640x480 with 1 Axes>"
      ]
     },
     "metadata": {},
     "output_type": "display_data"
    }
   ],
   "source": [
    "#month\n",
    "train_propensify['month'].value_counts().plot(kind='bar', color='skyblue', edgecolor='black')\n",
    "plt.title('month')\n",
    "plt.xlabel('month')\n",
    "plt.ylabel('month')\n",
    "plt.show()"
   ]
  },
  {
   "cell_type": "code",
   "execution_count": 85,
   "id": "d482b668",
   "metadata": {},
   "outputs": [
    {
     "data": {
      "text/html": [
       "<style type=\"text/css\">\n",
       "#T_e80f0_row0_col0, #T_e80f0_row1_col0, #T_e80f0_row2_col1, #T_e80f0_row3_col0, #T_e80f0_row4_col0, #T_e80f0_row5_col0, #T_e80f0_row6_col0, #T_e80f0_row7_col0, #T_e80f0_row8_col0, #T_e80f0_row9_col1 {\n",
       "  background-color: yellow;\n",
       "}\n",
       "</style>\n",
       "<table id=\"T_e80f0\">\n",
       "  <thead>\n",
       "    <tr>\n",
       "      <th class=\"index_name level0\" >responded</th>\n",
       "      <th id=\"T_e80f0_level0_col0\" class=\"col_heading level0 col0\" >no</th>\n",
       "      <th id=\"T_e80f0_level0_col1\" class=\"col_heading level0 col1\" >yes</th>\n",
       "    </tr>\n",
       "    <tr>\n",
       "      <th class=\"index_name level0\" >month</th>\n",
       "      <th class=\"blank col0\" >&nbsp;</th>\n",
       "      <th class=\"blank col1\" >&nbsp;</th>\n",
       "    </tr>\n",
       "  </thead>\n",
       "  <tbody>\n",
       "    <tr>\n",
       "      <th id=\"T_e80f0_level0_row0\" class=\"row_heading level0 row0\" >apr</th>\n",
       "      <td id=\"T_e80f0_row0_col0\" class=\"data row0 col0\" >77.094972</td>\n",
       "      <td id=\"T_e80f0_row0_col1\" class=\"data row0 col1\" >22.905028</td>\n",
       "    </tr>\n",
       "    <tr>\n",
       "      <th id=\"T_e80f0_level0_row1\" class=\"row_heading level0 row1\" >aug</th>\n",
       "      <td id=\"T_e80f0_row1_col0\" class=\"data row1 col0\" >91.043550</td>\n",
       "      <td id=\"T_e80f0_row1_col1\" class=\"data row1 col1\" >8.956450</td>\n",
       "    </tr>\n",
       "    <tr>\n",
       "      <th id=\"T_e80f0_level0_row2\" class=\"row_heading level0 row2\" >dec</th>\n",
       "      <td id=\"T_e80f0_row2_col0\" class=\"data row2 col0\" >44.827586</td>\n",
       "      <td id=\"T_e80f0_row2_col1\" class=\"data row2 col1\" >55.172414</td>\n",
       "    </tr>\n",
       "    <tr>\n",
       "      <th id=\"T_e80f0_level0_row3\" class=\"row_heading level0 row3\" >jul</th>\n",
       "      <td id=\"T_e80f0_row3_col0\" class=\"data row3 col0\" >91.189759</td>\n",
       "      <td id=\"T_e80f0_row3_col1\" class=\"data row3 col1\" >8.810241</td>\n",
       "    </tr>\n",
       "    <tr>\n",
       "      <th id=\"T_e80f0_level0_row4\" class=\"row_heading level0 row4\" >jun</th>\n",
       "      <td id=\"T_e80f0_row4_col0\" class=\"data row4 col0\" >90.155945</td>\n",
       "      <td id=\"T_e80f0_row4_col1\" class=\"data row4 col1\" >9.844055</td>\n",
       "    </tr>\n",
       "    <tr>\n",
       "      <th id=\"T_e80f0_level0_row5\" class=\"row_heading level0 row5\" >mar</th>\n",
       "      <td id=\"T_e80f0_row5_col0\" class=\"data row5 col0\" >51.456311</td>\n",
       "      <td id=\"T_e80f0_row5_col1\" class=\"data row5 col1\" >48.543689</td>\n",
       "    </tr>\n",
       "    <tr>\n",
       "      <th id=\"T_e80f0_level0_row6\" class=\"row_heading level0 row6\" >may</th>\n",
       "      <td id=\"T_e80f0_row6_col0\" class=\"data row6 col0\" >92.849365</td>\n",
       "      <td id=\"T_e80f0_row6_col1\" class=\"data row6 col1\" >7.150635</td>\n",
       "    </tr>\n",
       "    <tr>\n",
       "      <th id=\"T_e80f0_level0_row7\" class=\"row_heading level0 row7\" >nov</th>\n",
       "      <td id=\"T_e80f0_row7_col0\" class=\"data row7 col0\" >91.898734</td>\n",
       "      <td id=\"T_e80f0_row7_col1\" class=\"data row7 col1\" >8.101266</td>\n",
       "    </tr>\n",
       "    <tr>\n",
       "      <th id=\"T_e80f0_level0_row8\" class=\"row_heading level0 row8\" >oct</th>\n",
       "      <td id=\"T_e80f0_row8_col0\" class=\"data row8 col0\" >57.046980</td>\n",
       "      <td id=\"T_e80f0_row8_col1\" class=\"data row8 col1\" >42.953020</td>\n",
       "    </tr>\n",
       "    <tr>\n",
       "      <th id=\"T_e80f0_level0_row9\" class=\"row_heading level0 row9\" >sep</th>\n",
       "      <td id=\"T_e80f0_row9_col0\" class=\"data row9 col0\" >49.572650</td>\n",
       "      <td id=\"T_e80f0_row9_col1\" class=\"data row9 col1\" >50.427350</td>\n",
       "    </tr>\n",
       "  </tbody>\n",
       "</table>\n"
      ],
      "text/plain": [
       "<pandas.io.formats.style.Styler at 0x1e214a0f290>"
      ]
     },
     "execution_count": 85,
     "metadata": {},
     "output_type": "execute_result"
    }
   ],
   "source": [
    "cross_tab = pd.crosstab(train_propensify['month'], train_propensify['responded'],normalize = 'index')*100\n",
    "highlighted_cross_tab = cross_tab.style.apply(lambda x: ['background-color: yellow' if val == x.max() else '' for val in x], axis=1)\n",
    "highlighted_cross_tab"
   ]
  },
  {
   "cell_type": "code",
   "execution_count": 86,
   "id": "38554726",
   "metadata": {},
   "outputs": [
    {
     "name": "stdout",
     "output_type": "stream",
     "text": [
      "month_mapped\n",
      "others        6776\n",
      "QuarterEnd    1275\n",
      "Name: count, dtype: int64\n"
     ]
    },
    {
     "data": {
      "text/plain": [
       "month\n",
       "others        6776\n",
       "QuarterEnd    1275\n",
       "Name: count, dtype: int64"
      ]
     },
     "execution_count": 86,
     "metadata": {},
     "output_type": "execute_result"
    }
   ],
   "source": [
    "# Create a copy of the DataFrame to avoid modifying the original data\n",
    "train_propensify_copy_c = train_propensify.copy()\n",
    "\n",
    "# Define a mapping for specific months\n",
    "quarter_mapping = {'dec': 'QuarterEnd', 'sep': 'QuarterEnd', 'jun': 'QuarterEnd', 'mar': 'QuarterEnd'}\n",
    "\n",
    "# Replace specified months with 'QuarterEnd' in the copied DataFrame\n",
    "train_propensify_copy_c['month_mapped'] = train_propensify_copy_c['month'].replace(quarter_mapping)\n",
    "\n",
    "# Replace other months with 'others' in the copied DataFrame\n",
    "train_propensify_copy_c['month_mapped'].replace(to_replace=train_propensify_copy_c['month_mapped'][~train_propensify_copy_c['month_mapped'].isin(['QuarterEnd'])].unique(), value='others', inplace=True)\n",
    "\n",
    "# Display the value counts of the new variable\n",
    "print(train_propensify_copy_c['month_mapped'].value_counts())\n",
    "\n",
    "train_propensify['month'] = train_propensify_copy_c['month_mapped']\n",
    "train_propensify['month'].value_counts()"
   ]
  },
  {
   "cell_type": "markdown",
   "id": "72f40120",
   "metadata": {},
   "source": [
    "9. Day of week:\n",
    "Considering the customer's leisure time availabilty to label encode day of week."
   ]
  },
  {
   "cell_type": "code",
   "execution_count": 87,
   "id": "1cbc14c2",
   "metadata": {},
   "outputs": [
    {
     "data": {
      "image/png": "[encoded data removed]",
      "text/plain": [
       "<Figure size 640x480 with 1 Axes>"
      ]
     },
     "metadata": {},
     "output_type": "display_data"
    }
   ],
   "source": [
    "#Day_of_week\n",
    "train_propensify['day_of_week'].value_counts().plot(kind='bar', color='skyblue', edgecolor='black')\n",
    "plt.title('day_of_week')\n",
    "plt.xlabel('day_of_week')\n",
    "plt.ylabel('day_of_week')\n",
    "plt.show()"
   ]
  },
  {
   "cell_type": "code",
   "execution_count": 88,
   "id": "f32fff4b",
   "metadata": {},
   "outputs": [
    {
     "data": {
      "text/plain": [
       "day_of_week\n",
       "WeekBeginning    4862\n",
       "WeekEnding       3189\n",
       "Name: count, dtype: int64"
      ]
     },
     "execution_count": 88,
     "metadata": {},
     "output_type": "execute_result"
    }
   ],
   "source": [
    "#Label encoding\n",
    "train_propensify['day_of_week'] = train_propensify['day_of_week'].map({'mon': 'WeekBeginning', 'tue': 'WeekBeginning','wed':'WeekBeginning',\n",
    "                                                                      'thu':'WeekEnding','fri':'WeekEnding'})\n",
    "\n",
    "# Display the updated DataFrame\n",
    "train_propensify['day_of_week'].value_counts()"
   ]
  },
  {
   "cell_type": "markdown",
   "id": "d5d348a9",
   "metadata": {},
   "source": [
    "10. Feature engineering pdays and pmonths by addressing 999"
   ]
  },
  {
   "cell_type": "code",
   "execution_count": 89,
   "id": "d8d79322",
   "metadata": {},
   "outputs": [],
   "source": [
    "# Feature engineering of other variables\n",
    "\n",
    "#pdays\n",
    "conditions = [\n",
    "    (train_propensify['pdays'] == 999),\n",
    "    (train_propensify['pdays'] < 5),\n",
    "    ((train_propensify['pdays'] >= 5) & (train_propensify['pdays'] <= 10)),\n",
    "    (train_propensify['pdays'] > 10)\n",
    "]\n",
    "\n",
    "choices = ['first visit', 'less than 5 days', '5 to 10 days', 'greater than 10 days']\n",
    "\n",
    "# Create the 'pduration' column based on conditions\n",
    "train_propensify['pduration'] = np.select(conditions, choices, default='unknown')\n",
    "\n",
    "#pmonths\n",
    "conditions = [\n",
    "    (train_propensify['pmonths'] == 999),\n",
    "    (train_propensify['pmonths'] <= 0.2),\n",
    "    (train_propensify['pmonths'] > 0.2)\n",
    "]\n",
    "\n",
    "choices = ['first visit', 'less than 2 months',  'greater than 2 months']\n",
    "\n",
    "# Create the 'pduration' column based on conditions\n",
    "train_propensify['pduration_m'] = np.select(conditions, choices, default='unknown')\n"
   ]
  },
  {
   "cell_type": "code",
   "execution_count": 90,
   "id": "68f87028",
   "metadata": {},
   "outputs": [
    {
     "data": {
      "text/plain": [
       "custAge              float64\n",
       "profession            object\n",
       "marital               object\n",
       "schooling             object\n",
       "default               object\n",
       "housing               object\n",
       "loan                  object\n",
       "contact               object\n",
       "month                 object\n",
       "day_of_week           object\n",
       "campaign             float64\n",
       "pdays                float64\n",
       "previous             float64\n",
       "poutcome              object\n",
       "emp.var.rate         float64\n",
       "cons.price.idx       float64\n",
       "cons.conf.idx        float64\n",
       "euribor3m            float64\n",
       "nr.employed          float64\n",
       "pmonths              float64\n",
       "pastEmail            float64\n",
       "responded             object\n",
       "employment_status     object\n",
       "pduration             object\n",
       "pduration_m           object\n",
       "dtype: object"
      ]
     },
     "execution_count": 90,
     "metadata": {},
     "output_type": "execute_result"
    }
   ],
   "source": [
    "train_propensify.dtypes"
   ]
  },
  {
   "cell_type": "markdown",
   "id": "29ebbd09",
   "metadata": {},
   "source": [
    "----------------------------------------------------------------------------------------------------------------------------"
   ]
  },
  {
   "cell_type": "markdown",
   "id": "77645c34",
   "metadata": {},
   "source": [
    "# One hot encoding categoric features and normalizing continuous features"
   ]
  },
  {
   "cell_type": "markdown",
   "id": "11bb4cf3",
   "metadata": {},
   "source": [
    " "
   ]
  },
  {
   "cell_type": "code",
   "execution_count": 91,
   "id": "cc94847d",
   "metadata": {},
   "outputs": [],
   "source": [
    "# One hot encoding and normalization for appropriate variables \n",
    "# Drop target and unnecessary columns\n",
    "X = train_propensify.drop(['responded', 'pdays','pmonths','employment_status'], axis=1)\n",
    "y = train_propensify['responded']\n",
    "\n",
    "# One-hot encode categorical columns\n",
    "X_encoded = pd.get_dummies(X, columns=['loan', 'marital', 'schooling', 'default', 'housing', 'day_of_week',\n",
    "                                       'poutcome', 'pduration','pduration_m','profession','month','contact' ],drop_first=True)\n",
    "\n",
    "# Identify continuous columns for normalization\n",
    "continuous_columns = ['custAge','campaign','previous', 'emp.var.rate','cons.price.idx','cons.conf.idx',\n",
    "                      'euribor3m','nr.employed','pastEmail'\n",
    "                       ]\n"
   ]
  },
  {
   "cell_type": "markdown",
   "id": "381755fe",
   "metadata": {},
   "source": [
    " "
   ]
  },
  {
   "cell_type": "code",
   "execution_count": 92,
   "id": "20e7653c",
   "metadata": {},
   "outputs": [],
   "source": [
    "# Extract the continuous columns from X_encoded\n",
    "X_continuous = X_encoded[continuous_columns]\n",
    "\n",
    "# Instantiate StandardScaler\n",
    "scaler = StandardScaler()\n",
    "\n",
    "# Fit and transform the scaler on the continuous data\n",
    "X_continuous_normalized = scaler.fit_transform(X_continuous)\n",
    "\n",
    "# Replace the original continuous columns in X_encoded with the normalized ones\n",
    "X_encoded[continuous_columns] = X_continuous_normalized\n",
    "\n"
   ]
  },
  {
   "cell_type": "code",
   "execution_count": 93,
   "id": "8865c760",
   "metadata": {},
   "outputs": [
    {
     "data": {
      "text/plain": [
       "Index(['custAge', 'campaign', 'previous', 'emp.var.rate', 'cons.price.idx',\n",
       "       'cons.conf.idx', 'euribor3m', 'nr.employed', 'pastEmail',\n",
       "       'loan_unknown', 'loan_yes', 'marital_Unknown', 'marital_married',\n",
       "       'schooling_Uneducated&BasicEducation', 'schooling_Unknown',\n",
       "       'default_Yes&Unknown', 'housing_unknown', 'housing_yes',\n",
       "       'day_of_week_WeekEnding', 'poutcome_nonexistent', 'poutcome_success',\n",
       "       'pduration_first visit', 'pduration_greater than 10 days',\n",
       "       'pduration_less than 5 days', 'pduration_m_greater than 2 months',\n",
       "       'pduration_m_less than 2 months', 'profession_Unemployed&Unknown',\n",
       "       'profession_Working', 'month_others', 'contact_telephone'],\n",
       "      dtype='object')"
      ]
     },
     "execution_count": 93,
     "metadata": {},
     "output_type": "execute_result"
    }
   ],
   "source": [
    "X_encoded.columns"
   ]
  },
  {
   "cell_type": "markdown",
   "id": "79a77f4e",
   "metadata": {},
   "source": [
    "-------------------------------------------------------------------------------------------------------------------------------"
   ]
  },
  {
   "cell_type": "markdown",
   "id": "f7ff1f82",
   "metadata": {},
   "source": [
    "# Choice of sampling:\n",
    "Since the data is imbalanced there is a need to resample. The available options are undersampling, oversampling and mixed sampling. Since the data is highly imbalanced, oversampling could lead to create too much of synthetic data for the minority class and undersampling could lead to the loss of information. Hence mixed sampling is done using the SMOTE-NN method. It utilizes k-nearest neighbors to generate synthetic instances.\n"
   ]
  },
  {
   "cell_type": "markdown",
   "id": "92928c35",
   "metadata": {},
   "source": [
    "-------------------------------------------------------------------------------------------------------------------------------"
   ]
  },
  {
   "cell_type": "markdown",
   "id": "c861f7f3",
   "metadata": {},
   "source": [
    "# Choice of metrics and model:\n",
    "Since the data is highly imbalanced machine learning algorithms tend to predict the majority class (Here \"No\" i.e., not responded is the majority class) and thus, models tend to have high overall accurancy.\n",
    "\n",
    "However, since it is a propensity model, choosing not to market to an individual who could be potential customer will be costly \n",
    "to the company. Hence it is essential to improve the recall of minority class (Here \"Yes\" i.e., responded is minority class) is essential too.\n",
    "\n",
    "If the model just focuses on accuracy (A RFC can achieve 89% accuracy even with out addressing the imbalnce in data, however, the recall of minority data will be nearly 20%), the company tend to not choose to do marketing to the potential customers, which could be a loss to the company.\n",
    "\n",
    "On the other hand accuracy is important too, else marketing costs will drastically increase as the marketing will be done to those individuals who do not buy the product. \n",
    "\n",
    "Thus, there is a need for balance. The metrics given in the project is an accurancy of above 85%. However, this report focuses on maximizing the accuracy and recall of minority class. That is the model tries the maximize the recall while trying to keep the accuracy above 85%.\n",
    "\n",
    "To improve accuracy and recall, ensembling technique is used and the algorithms considered are Random Forest Classifier and Support Vector Machines."
   ]
  },
  {
   "cell_type": "markdown",
   "id": "5db6e5a5",
   "metadata": {},
   "source": [
    "----------------------------------------------------------------------------------------------------------------------------"
   ]
  },
  {
   "cell_type": "markdown",
   "id": "47e7ab13",
   "metadata": {},
   "source": [
    "# Model"
   ]
  },
  {
   "cell_type": "markdown",
   "id": "70a33dac",
   "metadata": {},
   "source": [
    " "
   ]
  },
  {
   "cell_type": "code",
   "execution_count": 95,
   "id": "d9494541",
   "metadata": {},
   "outputs": [
    {
     "name": "stdout",
     "output_type": "stream",
     "text": [
      "Accuracy: 0.86\n",
      "Classification Report:\n",
      "              precision    recall  f1-score   support\n",
      "\n",
      "          no       0.95      0.89      0.92      1431\n",
      "         yes       0.40      0.60      0.48       180\n",
      "\n",
      "    accuracy                           0.86      1611\n",
      "   macro avg       0.67      0.74      0.70      1611\n",
      "weighted avg       0.89      0.86      0.87      1611\n",
      "\n",
      "Confusion Matrix:\n",
      "[[1271  160]\n",
      " [  72  108]]\n",
      "True Positives: 108\n",
      "True Negatives: 1271\n",
      "False Positives: 160\n",
      "False Negatives: 72\n"
     ]
    }
   ],
   "source": [
    "#Ensembling without gridsearchcv, using rbf for SVC\n",
    "\n",
    "import numpy as np\n",
    "from sklearn.model_selection import train_test_split\n",
    "from sklearn.ensemble import RandomForestClassifier\n",
    "from sklearn.svm import SVC\n",
    "from sklearn.ensemble import VotingClassifier\n",
    "from imblearn.combine import SMOTEENN\n",
    "from sklearn.metrics import accuracy_score, classification_report, confusion_matrix\n",
    "from sklearn.model_selection import GridSearchCV\n",
    "\n",
    "\n",
    "# Split the data into training and testing sets\n",
    "X_train, X_test, y_train, y_test = train_test_split(X_encoded, y, test_size=0.2, random_state=42)\n",
    "\n",
    "\n",
    "y_train = np.array(y_train)\n",
    "y_test = np.array(y_test)\n",
    "\n",
    "# Apply SMOTEENN to the training data\n",
    "smoteenn = SMOTEENN(random_state=42)\n",
    "X_train_resampled, y_train_resampled = smoteenn.fit_resample(X_train, y_train)\n",
    "\n",
    "# Create a Random Forest classifier\n",
    "rf_classifier = RandomForestClassifier(random_state=42)\n",
    "\n",
    "# Create a Linear Support Vector Machine (SVM) classifier\n",
    "svm_classifier = SVC(kernel='rbf', probability=True, random_state=42)\n",
    "\n",
    "# Ensemble the classifiers using a VotingClassifier\n",
    "ensemble_classifier = VotingClassifier(estimators=[\n",
    "    ('rf', rf_classifier),\n",
    "    ('svm', svm_classifier)\n",
    "], voting='hard')  # 'hard' for probability voting\n",
    "\n",
    "# Fit the ensemble model on the resampled training data\n",
    "ensemble_classifier.fit(X_train_resampled, y_train_resampled)\n",
    "\n",
    "# Make predictions on the test set\n",
    "y_pred = ensemble_classifier.predict(X_test)\n",
    "\n",
    "# Evaluate the ensemble model\n",
    "accuracy = accuracy_score(y_test, y_pred)\n",
    "print(f\"Accuracy: {accuracy:.2f}\")\n",
    "\n",
    "# Display classification report\n",
    "print(\"Classification Report:\")\n",
    "print(classification_report(y_test, y_pred))\n",
    "\n",
    "# Get the confusion matrix\n",
    "conf_matrix = confusion_matrix(y_test, y_pred)\n",
    "\n",
    "# Extract values from the confusion matrix\n",
    "tn, fp, fn, tp = conf_matrix.ravel()\n",
    "\n",
    "# Display the confusion matrix\n",
    "print(\"Confusion Matrix:\")\n",
    "print(conf_matrix)\n",
    "\n",
    "# Display number of true positives, true negatives, false positives, and false negatives\n",
    "print(f\"True Positives: {tp}\")\n",
    "print(f\"True Negatives: {tn}\")\n",
    "print(f\"False Positives: {fp}\")\n",
    "print(f\"False Negatives: {fn}\")\n"
   ]
  },
  {
   "cell_type": "markdown",
   "id": "518b175a",
   "metadata": {},
   "source": [
    "# Utility of the Model\n",
    "It can be observed from the above results that the recall of minority class is maximized while keeping the accuracy above 85% as required by the project. Hence the model keeps the fine balance between accuracy and recall of minority class so that the company does not loose out too much on marketing cost and at the same time it tries to make sure that the most of the potential customers are treated with the marketing campaign so that the company does not loose out the potential customers."
   ]
  },
  {
   "cell_type": "markdown",
   "id": "01a05164",
   "metadata": {},
   "source": [
    " "
   ]
  },
  {
   "cell_type": "markdown",
   "id": "814cc817",
   "metadata": {},
   "source": [
    "-----------------------------------------------------------------------------------------------------------------------"
   ]
  },
  {
   "cell_type": "code",
   "execution_count": null,
   "id": "0be4d66c",
   "metadata": {},
   "outputs": [],
   "source": []
  }
 ],
 "metadata": {
  "kernelspec": {
   "display_name": "Python 3 (ipykernel)",
   "language": "python",
   "name": "python3"
  },
  "language_info": {
   "codemirror_mode": {
    "name": "ipython",
    "version": 3
   },
   "file_extension": ".py",
   "mimetype": "text/x-python",
   "name": "python",
   "nbconvert_exporter": "python",
   "pygments_lexer": "ipython3",
   "version": "3.11.5"
  }
 },
 "nbformat": 4,
 "nbformat_minor": 5
}
